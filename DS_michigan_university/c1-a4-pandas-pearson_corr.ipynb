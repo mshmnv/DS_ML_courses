{
 "cells": [
  {
   "cell_type": "markdown",
   "metadata": {
    "deletable": false,
    "editable": false,
    "nbgrader": {
     "checksum": "48770f8b5f5d3062d3badd51fcafc401",
     "grade": false,
     "grade_id": "cell-a6c4f74309fc2379",
     "locked": true,
     "schema_version": 1,
     "solution": false
    }
   },
   "source": [
    "# Assignment 4\n",
    "## Description\n",
    "In this assignment you must read in a file of metropolitan regions and associated sports teams from [assets/wikipedia_data.html](assets/wikipedia_data.html) and answer some questions about each metropolitan region. Each of these regions may have one or more teams from the \"Big 4\": NFL (football, in [assets/nfl.csv](assets/nfl.csv)), MLB (baseball, in [assets/mlb.csv](assets/mlb.csv)), NBA (basketball, in [assets/nba.csv](assets/nba.csv) or NHL (hockey, in [assets/nhl.csv](assets/nhl.csv)). Please keep in mind that all questions are from the perspective of the metropolitan region, and that this file is the \"source of authority\" for the location of a given sports team. Thus teams which are commonly known by a different area (e.g. \"Oakland Raiders\") need to be mapped into the metropolitan region given (e.g. San Francisco Bay Area). This will require some human data understanding outside of the data you've been given (e.g. you will have to hand-code some names, and might need to google to find out where teams are)!\n",
    "\n",
    "For each sport I would like you to answer the question: **what is the win/loss ratio's correlation with the population of the city it is in?** Win/Loss ratio refers to the number of wins over the number of wins plus the number of losses. Remember that to calculate the correlation with [`pearsonr`](https://docs.scipy.org/doc/scipy/reference/generated/scipy.stats.pearsonr.html), so you are going to send in two ordered lists of values, the populations from the wikipedia_data.html file and the win/loss ratio for a given sport in the same order. Average the win/loss ratios for those cities which have multiple teams of a single sport. Each sport is worth an equal amount in this assignment (20%\\*4=80%) of the grade for this assignment. You should only use data **from year 2018** for your analysis -- this is important!\n",
    "\n",
    "## Notes\n",
    "\n",
    "1. Do not include data about the MLS or CFL in any of the work you are doing, we're only interested in the Big 4 in this assignment.\n",
    "2. I highly suggest that you first tackle the four correlation questions in order, as they are all similar and worth the majority of grades for this assignment. This is by design!\n",
    "3. It's fair game to talk with peers about high level strategy as well as the relationship between metropolitan areas and sports teams. However, do not post code solving aspects of the assignment (including such as dictionaries mapping areas to teams, or regexes which will clean up names).\n",
    "4. There may be more teams than the assert statements test, remember to collapse multiple teams in one city into a single value!"
   ]
  },
  {
   "cell_type": "markdown",
   "metadata": {
    "deletable": false,
    "editable": false,
    "nbgrader": {
     "checksum": "369ff9ecf0ee04640574205cbc697f94",
     "grade": false,
     "grade_id": "cell-712b2b5da63d4505",
     "locked": true,
     "schema_version": 1,
     "solution": false
    }
   },
   "source": [
    "## Question 1\n",
    "For this question, calculate the win/loss ratio's correlation with the population of the city it is in for the **NHL** using **2018** data."
   ]
  },
  {
   "cell_type": "code",
   "execution_count": 159,
   "metadata": {
    "deletable": false,
    "nbgrader": {
     "checksum": "1cac4803b02502929f5b1612d48db2b5",
     "grade": false,
     "grade_id": "cell-69b16e4386e58030",
     "locked": false,
     "schema_version": 1,
     "solution": true
    },
    "scrolled": true
   },
   "outputs": [
    {
     "data": {
      "text/plain": [
       "0.012486162921209912"
      ]
     },
     "execution_count": 159,
     "metadata": {},
     "output_type": "execute_result"
    }
   ],
   "source": [
    "import pandas as pd\n",
    "import numpy as np\n",
    "import scipy.stats as stats\n",
    "import re\n",
    "\n",
    "def rename_team(x):\n",
    "    x = x.split()[-1]\n",
    "    if x == 'Wings':\n",
    "        x = 'Red Wings'\n",
    "    if x == 'Leafs':\n",
    "        x = 'Maple Leafs'\n",
    "    if x == 'Jackets':\n",
    "        x = 'Blue Jackets'\n",
    "    if x == 'Knights':\n",
    "        x = 'Golden Knights'\n",
    "    return x\n",
    "\n",
    "def win_lose_ratio(x):\n",
    "    x['W/L'] = float(x['W'])/ (float(x['W']) + float(x['L']))\n",
    "    return x\n",
    "\n",
    "\n",
    "def cut_names(x):\n",
    "    if re.findall('\\[note [0-9]+\\]', x):\n",
    "        x = re.sub(r'\\[note [0-9]+\\]', '', x)\n",
    "    if len(x) == 0:\n",
    "        x = np.NaN\n",
    "    elif x == '—':\n",
    "        x = np.NaN\n",
    "    return x\n",
    "\n",
    "\n",
    "def clear_wildcard(x):\n",
    "    x[0] = re.sub(r'\\*', '', x[0])\n",
    "    return x\n",
    "\n",
    "\n",
    "def nhl_correlation():\n",
    "    nhl_df = pd.read_csv(\"assets/nhl.csv\")\n",
    "    nhl_df = nhl_df[nhl_df['year'] == 2018]\n",
    "    nhl_df = nhl_df.apply(clear_wildcard, axis=1)\n",
    "    nhl_df = nhl_df.set_index('team')\n",
    "    nhl_df = nhl_df.drop(index=['Atlantic Division', 'Metropolitan Division', 'Central Division', 'Pacific Division'])\n",
    "    nhl_df = nhl_df.apply(win_lose_ratio, axis=1)\n",
    "    nhl_df = nhl_df[['W/L']]\n",
    "    nhl_df = nhl_df.reset_index()\n",
    "    nhl_df['team'] = nhl_df['team'].apply(rename_team)\n",
    "    nhl_df = nhl_df.set_index('team')\n",
    "    \n",
    "    cities = pd.read_html(\"assets/wikipedia_data.html\")[1]\n",
    "    cities = cities.iloc[:-1,[0,3,5,6,7,8]]\n",
    "    cities['NHL'] = cities['NHL'].apply(cut_names)\n",
    "    cities = cities[['NHL', 'Metropolitan area', 'Population (2016 est.)[8]']].set_index('Metropolitan area')\n",
    "    cities = cities[cities['NHL'].notna()]\n",
    "    cities = cities.reset_index()\n",
    "    cities = cities.set_index('NHL')\n",
    "    combined = pd.merge(cities, nhl_df, how='left', right_index=True, left_index=True)\n",
    "    combined = combined.reset_index()\n",
    "    combined = combined.set_index('Metropolitan area')\n",
    "    wl_combined = combined[['W/L']]\n",
    "    wl_combined.loc['New York City']['W/L'] = (nhl_df.loc['Rangers']['W/L'] + nhl_df.loc['Islanders']['W/L'] + nhl_df.loc['Devils']['W/L']) / 3\n",
    "    wl_combined.loc['Los Angeles']['W/L'] = (nhl_df.loc['Kings']['W/L'] + nhl_df.loc['Ducks']['W/L']) / 2\n",
    "    combined['W/L'] = wl_combined['W/L']\n",
    "    \n",
    "    combined['Population (2016 est.)[8]'] = combined['Population (2016 est.)[8]'].apply(lambda x: np.int(x))\n",
    "    combined = combined.reset_index()\n",
    "\n",
    "    population_by_region = combined['Population (2016 est.)[8]']  # pass in metropolitan area population from cities\n",
    "    win_loss_by_region = combined['W/L']                          # pass in win/loss ratio from nhl_df in the same order as cities[\"Metropolitan area\"]\n",
    "    assert len(population_by_region) == len(win_loss_by_region),  \"Q1: Your lists must be the same length\"\n",
    "    assert len(population_by_region) == 28,                       \"Q1: There should be 28 teams being analysed for NHL\"\n",
    "    return stats.pearsonr(population_by_region, win_loss_by_region)[0]\n",
    "\n",
    "\n",
    "nhl_correlation()\n"
   ]
  },
  {
   "cell_type": "code",
   "execution_count": null,
   "metadata": {
    "deletable": false,
    "editable": false,
    "nbgrader": {
     "checksum": "52a581df513c71153e105b93764cda4b",
     "grade": true,
     "grade_id": "cell-ebe0b2dfe1067e63",
     "locked": true,
     "points": 20,
     "schema_version": 1,
     "solution": false
    }
   },
   "outputs": [],
   "source": []
  },
  {
   "cell_type": "markdown",
   "metadata": {
    "deletable": false,
    "editable": false,
    "nbgrader": {
     "checksum": "988912cae4968d81473f46d783e79c16",
     "grade": false,
     "grade_id": "cell-cb964e690298b71d",
     "locked": true,
     "schema_version": 1,
     "solution": false
    }
   },
   "source": [
    "## Question 2\n",
    "For this question, calculate the win/loss ratio's correlation with the population of the city it is in for the **NBA** using **2018** data."
   ]
  },
  {
   "cell_type": "code",
   "execution_count": 177,
   "metadata": {
    "deletable": false,
    "nbgrader": {
     "checksum": "9394222aafc8ccab0a228098ba0d6010",
     "grade": false,
     "grade_id": "cell-5a5f21279e3d3572",
     "locked": false,
     "schema_version": 1,
     "solution": true
    }
   },
   "outputs": [
    {
     "data": {
      "text/plain": [
       "-0.1765716025284462"
      ]
     },
     "execution_count": 177,
     "metadata": {},
     "output_type": "execute_result"
    }
   ],
   "source": [
    "import pandas as pd\n",
    "import numpy as np\n",
    "import scipy.stats as stats\n",
    "import re\n",
    "\n",
    "def rename_team(x):\n",
    "    x = x.split()[-1]\n",
    "    if x == 'Blazers':\n",
    "        x = 'Trail Blazers'\n",
    "    return x\n",
    "\n",
    "\n",
    "def win_lose_ratio(x):\n",
    "    x['W/L'] = float(x['W'])/ (float(x['W']) + float(x['L']))\n",
    "    return x\n",
    "\n",
    "def cut_names(x):\n",
    "    if re.findall('\\[note [0-9]+\\]', x):\n",
    "        x = re.sub(r'\\[note [0-9]+\\]', '', x)\n",
    "    if len(x) == 0:\n",
    "        x = np.NaN\n",
    "    elif x == '—':\n",
    "        x = np.NaN\n",
    "    return x\n",
    "\n",
    "\n",
    "def nba_correlation():\n",
    "    nba_df=pd.read_csv(\"assets/nba.csv\")\n",
    "    nba_df = nba_df[nba_df['year'] == 2018]\n",
    "    nba_df['team'] = nba_df['team'].apply(lambda x: re.sub(r'\\*', '', x))\n",
    "    nba_df['team'] = nba_df['team'].apply(lambda x: re.sub(r'\\([0-9]+\\)', '', x))\n",
    "    nba_df = nba_df.apply(win_lose_ratio, axis=1)\n",
    "    nba_df = nba_df.set_index('team')\n",
    "    nba_df = nba_df[['W/L']]\n",
    "    nba_df = nba_df.reset_index()\n",
    "    nba_df['team'] = nba_df['team'].apply(rename_team)\n",
    "    nba_df = nba_df.set_index('team')\n",
    "\n",
    "    cities = pd.read_html(\"assets/wikipedia_data.html\")[1]\n",
    "    cities = cities.iloc[:-1,[0,3,5,6,7,8]]\n",
    "    cities['NBA'] = cities['NBA'].apply(cut_names)\n",
    "    cities = cities[['NBA', 'Metropolitan area', 'Population (2016 est.)[8]']].set_index('Metropolitan area')\n",
    "    cities = cities[cities['NBA'].notna()]\n",
    "    cities = cities.reset_index()\n",
    "    cities = cities.set_index('NBA')\n",
    "    \n",
    "    combined = pd.merge(cities, nba_df, how='left', right_index=True, left_index=True)\n",
    "    combined = combined.reset_index()\n",
    "    combined = combined.set_index('Metropolitan area')\n",
    "    wl_combined = combined[['W/L']]\n",
    "    wl_combined.loc['New York City']['W/L'] = (nba_df.loc['Knicks']['W/L'] + nba_df.loc['Nets']['W/L']) / 2\n",
    "    wl_combined.loc['Los Angeles']['W/L'] = (nba_df.loc['Lakers']['W/L'] + nba_df.loc['Clippers']['W/L']) / 2\n",
    "    combined['W/L'] = wl_combined['W/L']\n",
    "    combined['Population (2016 est.)[8]'] = combined['Population (2016 est.)[8]'].apply(lambda x: np.int(x))\n",
    "    combined = combined.reset_index()\n",
    "    \n",
    "    population_by_region = combined['Population (2016 est.)[8]'] # pass in metropolitan area population from cities\n",
    "    win_loss_by_region = combined['W/L']                         # pass in win/loss ratio from nba_df in the same order as cities[\"Metropolitan area\"]\n",
    "\n",
    "    assert len(population_by_region) == len(win_loss_by_region), \"Q2: Your lists must be the same length\"\n",
    "    assert len(population_by_region) == 28,                      \"Q2: There should be 28 teams being analysed for NBA\"\n",
    "\n",
    "    return stats.pearsonr(population_by_region, win_loss_by_region)[0]\n",
    "\n",
    "                          \n",
    "nba_correlation()"
   ]
  },
  {
   "cell_type": "code",
   "execution_count": null,
   "metadata": {
    "deletable": false,
    "editable": false,
    "nbgrader": {
     "checksum": "bbdeb8eb22f525a34c10dc8798324e42",
     "grade": true,
     "grade_id": "cell-e573b2b4a282b470",
     "locked": true,
     "points": 20,
     "schema_version": 1,
     "solution": false
    }
   },
   "outputs": [],
   "source": []
  },
  {
   "cell_type": "markdown",
   "metadata": {
    "deletable": false,
    "editable": false,
    "nbgrader": {
     "checksum": "1a1a5809f675ca033086422007cd73bd",
     "grade": false,
     "grade_id": "cell-96e15e4335df78f4",
     "locked": true,
     "schema_version": 1,
     "solution": false
    }
   },
   "source": [
    "## Question 3\n",
    "For this question, calculate the win/loss ratio's correlation with the population of the city it is in for the **MLB** using **2018** data."
   ]
  },
  {
   "cell_type": "code",
   "execution_count": 186,
   "metadata": {
    "deletable": false,
    "nbgrader": {
     "checksum": "27e8c0da6c9fa0dffc10488314335b6c",
     "grade": false,
     "grade_id": "cell-33b00fc3f3467b0c",
     "locked": false,
     "schema_version": 1,
     "solution": true
    }
   },
   "outputs": [
    {
     "data": {
      "text/plain": [
       "0.1502769830266931"
      ]
     },
     "execution_count": 186,
     "metadata": {},
     "output_type": "execute_result"
    }
   ],
   "source": [
    "import pandas as pd\n",
    "import numpy as np\n",
    "import scipy.stats as stats\n",
    "import re\n",
    "\n",
    "def rename_team(x):\n",
    "    if x == 'Boston Red Sox':\n",
    "        return 'Red Sox'\n",
    "    x = x.split()[-1]\n",
    "    if x == 'Jays':\n",
    "        x = 'Blue Jays'\n",
    "    return x\n",
    "\n",
    "\n",
    "def win_lose_ratio(x):\n",
    "    x['W/L'] = float(x['W'])/ (float(x['W']) + float(x['L']))\n",
    "    return x\n",
    "\n",
    "\n",
    "def cut_names(x):\n",
    "    if re.findall('\\[note [0-9]+\\]', x):\n",
    "        x = re.sub(r'\\[note [0-9]+\\]', '', x)\n",
    "    if len(x) == 0:\n",
    "        x = np.NaN\n",
    "    elif x == '—':\n",
    "        x = np.NaN\n",
    "    return x\n",
    "\n",
    "\n",
    "def mlb_correlation():\n",
    "    mlb_df=pd.read_csv(\"assets/mlb.csv\")\n",
    "    mlb_df = mlb_df[mlb_df['year'] == 2018]\n",
    "    mlb_df = mlb_df.apply(win_lose_ratio, axis=1)\n",
    "    mlb_df = mlb_df.set_index('team')\n",
    "    mlb_df = mlb_df[['W/L']]\n",
    "    mlb_df = mlb_df.reset_index()\n",
    "    mlb_df['team'] = mlb_df['team'].apply(rename_team)\n",
    "    mlb_df = mlb_df.set_index('team')\n",
    "\n",
    "    cities=pd.read_html(\"assets/wikipedia_data.html\")[1]\n",
    "    cities=cities.iloc[:-1,[0,3,5,6,7,8]]\n",
    "    cities['MLB'] = cities['MLB'].apply(cut_names)\n",
    "    cities = cities[['MLB', 'Metropolitan area', 'Population (2016 est.)[8]']].set_index('Metropolitan area')\n",
    "    cities = cities[cities['MLB'].notna()]\n",
    "    cities = cities.reset_index()\n",
    "    cities = cities.set_index('MLB')\n",
    "\n",
    "    combined = pd.merge(cities, mlb_df, how='left', right_index=True, left_index=True)\n",
    "    combined = combined.reset_index()\n",
    "    combined = combined.set_index('Metropolitan area')\n",
    "    wl_combined = combined[['W/L']]\n",
    "    wl_combined.loc['New York City']['W/L'] = (mlb_df.loc['Yankees']['W/L'] + mlb_df.loc['Mets']['W/L']) / 2\n",
    "    wl_combined.loc['Los Angeles']['W/L'] = (mlb_df.loc['Dodgers']['W/L'] + mlb_df.loc['Angels']['W/L']) / 2\n",
    "    wl_combined.loc['San Francisco Bay Area']['W/L'] = (mlb_df.loc['Giants']['W/L'] + mlb_df.loc['Athletics']['W/L']) / 2\n",
    "    wl_combined.loc['Chicago']['W/L'] = (mlb_df.loc['Cubs']['W/L'] + mlb_df.loc['Sox']['W/L']) / 2\n",
    "    combined['W/L'] = wl_combined['W/L']\n",
    "    combined['Population (2016 est.)[8]'] = combined['Population (2016 est.)[8]'].apply(lambda x: np.int(x))\n",
    "    combined = combined.reset_index()\n",
    "    \n",
    "    population_by_region = combined['Population (2016 est.)[8]'] # pass in metropolitan area population from cities\n",
    "    win_loss_by_region = combined['W/L']                         # pass in win/loss ratio from mlb_df in the same order as cities[\"Metropolitan area\"]\n",
    "\n",
    "    assert len(population_by_region) == len(win_loss_by_region), \"Q3: Your lists must be the same length\"\n",
    "    assert len(population_by_region) == 26,                      \"Q3: There should be 26 teams being analysed for MLB\"\n",
    "    return stats.pearsonr(population_by_region, win_loss_by_region)[0]\n",
    "\n",
    "\n",
    "mlb_correlation()\n"
   ]
  },
  {
   "cell_type": "code",
   "execution_count": null,
   "metadata": {
    "deletable": false,
    "editable": false,
    "nbgrader": {
     "checksum": "cda33b094ba19ccc37a481e0dd29e0bc",
     "grade": true,
     "grade_id": "cell-764d4476f425c5a2",
     "locked": true,
     "points": 20,
     "schema_version": 1,
     "solution": false
    }
   },
   "outputs": [],
   "source": []
  },
  {
   "cell_type": "markdown",
   "metadata": {
    "deletable": false,
    "editable": false,
    "nbgrader": {
     "checksum": "6977a6da9ed6d8b7a0b7e37bbeda709b",
     "grade": false,
     "grade_id": "cell-793df6c04dfb126e",
     "locked": true,
     "schema_version": 1,
     "solution": false
    }
   },
   "source": [
    "## Question 4\n",
    "For this question, calculate the win/loss ratio's correlation with the population of the city it is in for the **NFL** using **2018** data."
   ]
  },
  {
   "cell_type": "code",
   "execution_count": 219,
   "metadata": {
    "deletable": false,
    "nbgrader": {
     "checksum": "c4914ad1e119278ec2bd567c52640b66",
     "grade": false,
     "grade_id": "cell-8ccebc209aeec8d9",
     "locked": false,
     "schema_version": 1,
     "solution": true
    }
   },
   "outputs": [
    {
     "data": {
      "text/plain": [
       "0.004922112149349386"
      ]
     },
     "execution_count": 219,
     "metadata": {},
     "output_type": "execute_result"
    }
   ],
   "source": [
    "import pandas as pd\n",
    "import numpy as np\n",
    "import scipy.stats as stats\n",
    "import re\n",
    "\n",
    "\n",
    "def rename_team(x):\n",
    "    x = re.sub(r'[\\+\\*]', '', x)\n",
    "    x = x.split()[-1]\n",
    "    return x\n",
    "\n",
    "\n",
    "def win_lose_ratio(x):\n",
    "    x['W/L'] = float(x['W'])/ (float(x['W']) + float(x['L']))\n",
    "    return x\n",
    "\n",
    "\n",
    "def cut_names(x):\n",
    "    if re.findall('\\[note [0-9]+\\]', x):\n",
    "        x = re.sub(r'\\[note [0-9]+\\]', '', x)\n",
    "    if len(x) == 0:\n",
    "        x = np.NaN\n",
    "    elif x == '—' or x == '— ':\n",
    "        x = np.NaN\n",
    "    return x\n",
    "\n",
    "\n",
    "def nfl_correlation(): \n",
    "    nfl_df = pd.read_csv(\"assets/nfl.csv\")\n",
    "    nfl_df = nfl_df[nfl_df['year'] == 2018]\n",
    "    nfl_df = nfl_df.set_index('team')\n",
    "    nfl_df = nfl_df.drop(index=['AFC East', 'AFC North', 'AFC South', 'AFC West', 'NFC East', 'NFC North', 'NFC South', 'NFC West'])\n",
    "    nfl_df = nfl_df.reset_index()\n",
    "    nfl_df = nfl_df.apply(win_lose_ratio, axis=1)\n",
    "    nfl_df = nfl_df.set_index('team')\n",
    "    nfl_df = nfl_df[['W/L']]\n",
    "    nfl_df = nfl_df.reset_index()\n",
    "    nfl_df['team'] = nfl_df['team'].apply(rename_team)\n",
    "    nfl_df = nfl_df.set_index('team')\n",
    "\n",
    "    cities = pd.read_html(\"assets/wikipedia_data.html\")[1]\n",
    "    cities = cities.iloc[:-1,[0,3,5,6,7,8]]\n",
    "    cities['NFL'] = cities['NFL'].apply(cut_names)\n",
    "    cities = cities[['NFL', 'Metropolitan area', 'Population (2016 est.)[8]']].set_index('Metropolitan area')\n",
    "    cities = cities[cities['NFL'].notna()]\n",
    "    cities = cities.reset_index()\n",
    "    cities = cities.set_index('NFL')\n",
    "\n",
    "    combined = pd.merge(cities, nfl_df, how='left', right_index=True, left_index=True)\n",
    "    combined = combined.reset_index()\n",
    "    combined = combined.set_index('Metropolitan area')\n",
    "    wl_combined = combined[['W/L']]\n",
    "    wl_combined.loc['New York City']['W/L'] = (nfl_df.loc['Giants']['W/L'] + nfl_df.loc['Jets']['W/L']) / 2\n",
    "    wl_combined.loc['Los Angeles']['W/L'] = (nfl_df.loc['Rams']['W/L'] + nfl_df.loc['Chargers']['W/L']) / 2\n",
    "    wl_combined.loc['San Francisco Bay Area']['W/L'] = (nfl_df.loc['49ers']['W/L'] + nfl_df.loc['Raiders']['W/L']) / 2\n",
    "    combined['W/L'] = wl_combined['W/L']\n",
    "    combined['Population (2016 est.)[8]'] = combined['Population (2016 est.)[8]'].apply(lambda x: np.int(x))\n",
    "    combined = combined.reset_index()\n",
    "\n",
    "    population_by_region = combined['Population (2016 est.)[8]'] # pass in metropolitan area population from cities\n",
    "    win_loss_by_region = combined['W/L']                         # pass in win/loss ratio from nfl_df in the same order as cities[\"Metropolitan area\"]\n",
    "\n",
    "    assert len(population_by_region) == len(win_loss_by_region), \"Q4: Your lists must be the same length\"\n",
    "    assert len(population_by_region) == 29,                      \"Q4: There should be 29 teams being analysed for NFL\"\n",
    "    return stats.pearsonr(population_by_region, win_loss_by_region)[0]\n",
    "\n",
    "\n",
    "nfl_correlation()"
   ]
  },
  {
   "cell_type": "code",
   "execution_count": null,
   "metadata": {
    "deletable": false,
    "editable": false,
    "nbgrader": {
     "checksum": "e9415d6399aa49e3a1a60813afdefa3b",
     "grade": true,
     "grade_id": "cell-de7b148b9554dbda",
     "locked": true,
     "points": 20,
     "schema_version": 1,
     "solution": false
    }
   },
   "outputs": [],
   "source": []
  },
  {
   "cell_type": "markdown",
   "metadata": {
    "deletable": false,
    "editable": false,
    "nbgrader": {
     "checksum": "b02d5cd3273f561e4ae939bb2a41740c",
     "grade": false,
     "grade_id": "cell-97b49d8639e908c4",
     "locked": true,
     "schema_version": 1,
     "solution": false
    }
   },
   "source": [
    "## Question 5\n",
    "In this question I would like you to explore the hypothesis that **given that an area has two sports teams in different sports, those teams will perform the same within their respective sports**. How I would like to see this explored is with a series of paired t-tests (so use [`ttest_rel`](https://docs.scipy.org/doc/scipy/reference/generated/scipy.stats.ttest_rel.html)) between all pairs of sports. Are there any sports where we can reject the null hypothesis? Again, average values where a sport has multiple teams in one region. Remember, you will only be including, for each sport, cities which have teams engaged in that sport, drop others as appropriate. This question is worth 20% of the grade for this assignment."
   ]
  },
  {
   "cell_type": "code",
   "execution_count": 3,
   "metadata": {
    "deletable": false,
    "nbgrader": {
     "checksum": "6d78c961eb66f8d8c81f06d33ae8f393",
     "grade": false,
     "grade_id": "cell-92f25f44b8d1179f",
     "locked": false,
     "schema_version": 1,
     "solution": true
    },
    "scrolled": true
   },
   "outputs": [],
   "source": [
    "import pandas as pd\n",
    "import numpy as np\n",
    "import scipy.stats as stats\n",
    "import re\n",
    "\n",
    "\n",
    "def sports_team_performance():\n",
    "        None\n",
    "    # Note: p_values is a full dataframe, so df.loc[\"NFL\",\"NBA\"] should be the same as df.loc[\"NBA\",\"NFL\"] and\n",
    "    # df.loc[\"NFL\",\"NFL\"] should return np.nan\n",
    "#     sports = ['NFL', 'NBA', 'NHL', 'MLB']\n",
    "#     p_values = pd.DataFrame({k:np.nan for k in sports}, index=sports)\n",
    "    \n",
    "#     assert abs(p_values.loc[\"NBA\", \"NHL\"] - 0.02) <= 1e-2, \"The NBA-NHL p-value should be around 0.02\"\n",
    "#     assert abs(p_values.loc[\"MLB\", \"NFL\"] - 0.80) <= 1e-2, \"The MLB-NFL p-value should be around 0.80\"\n",
    "#     return p_values\n",
    "\n",
    "\n",
    "sports_team_performance()"
   ]
  },
  {
   "cell_type": "code",
   "execution_count": null,
   "metadata": {},
   "outputs": [],
   "source": []
  },
  {
   "cell_type": "code",
   "execution_count": null,
   "metadata": {
    "deletable": false,
    "editable": false,
    "nbgrader": {
     "checksum": "2a596ab421a45cc01168d10e8fbb8f89",
     "grade": true,
     "grade_id": "cell-fb4b9cb5ff4570a6",
     "locked": true,
     "points": 20,
     "schema_version": 1,
     "solution": false
    }
   },
   "outputs": [],
   "source": []
  }
 ],
 "metadata": {
  "coursera": {
   "schema_names": [
    "mooc_adswpy_1_v2_assignment4"
   ]
  },
  "kernelspec": {
   "display_name": "Python 3",
   "language": "python",
   "name": "python3"
  },
  "language_info": {
   "codemirror_mode": {
    "name": "ipython",
    "version": 3
   },
   "file_extension": ".py",
   "mimetype": "text/x-python",
   "name": "python",
   "nbconvert_exporter": "python",
   "pygments_lexer": "ipython3",
   "version": "3.8.5"
  }
 },
 "nbformat": 4,
 "nbformat_minor": 4
}
