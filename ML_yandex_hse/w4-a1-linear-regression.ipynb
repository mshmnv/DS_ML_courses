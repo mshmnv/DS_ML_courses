{
 "cells": [
  {
   "cell_type": "markdown",
   "metadata": {},
   "source": [
    "# Линейная регрессия: прогноз оклада по описанию вакансии\n",
    "1. Загрузите данные об описаниях вакансий и соответствующих годовых зарплатах из файла salary-train.csv (либо его заархивированную версию salary-train.zip).\n",
    "2. Проведите предобработку:\n",
    "- Приведите тексты к нижнему регистру (text.lower()).\n",
    "- Замените все, кроме букв и цифр, на пробелы — это облегчит дальнейшее разделение текста на слова. Для такой замены в строке text подходит следующий вызов: re.sub('[^a-zA-Z0-9]', ' ', text). Также можно воспользоваться методом replace у DataFrame, чтобы сразу преобразовать все тексты.\n",
    "\n",
    "- Примените TfidfVectorizer для преобразования текстов в векторы признаков. Оставьте только те слова, которые встречаются хотя бы в 5 объектах (параметр min_df у TfidfVectorizer).\n",
    "- Замените пропуски в столбцах LocationNormalized и ContractTime на специальную строку 'nan'.\n",
    "- Примените DictVectorizer для получения one-hot-кодирования признаков LocationNormalized и ContractTime.\n",
    "- Объедините все полученные признаки в одну матрицу \"объекты-признаки\". Обратите внимание, что матрицы для текстов и категориальных признаков являются разреженными. Для объединения их столбцов нужно воспользоваться функцией scipy.sparse.hstack.\n",
    "3.  Обучите гребневую регрессию с параметрами alpha=1 и random_state=241. Целевая переменная записана в столбце SalaryNormalized.\n",
    "\n",
    "4.  Постройте прогнозы для двух примеров из файла salary-test-mini.csv. Значения полученных прогнозов являются ответом на задание. Укажите их через пробел."
   ]
  },
  {
   "cell_type": "code",
   "execution_count": 111,
   "metadata": {},
   "outputs": [],
   "source": [
    "import pandas as pd\n",
    "import re\n",
    "from sklearn.feature_extraction.text import TfidfVectorizer\n",
    "from sklearn.linear_model import Ridge                 # гребневая регрессия\n",
    "from sklearn.feature_extraction import DictVectorizer  # for nominal features (LocationNormalized, ContractTime)\n",
    "from scipy.sparse import hstack"
   ]
  },
  {
   "cell_type": "code",
   "execution_count": 103,
   "metadata": {
    "scrolled": true
   },
   "outputs": [
    {
     "data": {
      "text/plain": [
       "(0        International Sales Manager London ****k  ****...\n",
       " 1        An ideal opportunity for an individual that ha...\n",
       " 2        Online Content and Brand Manager// Luxury Reta...\n",
       " 3        A great local marketleader is seeking a perman...\n",
       " 4        Registered Nurse / RGN  Nursing Home for Young...\n",
       "                                ...                        \n",
       " 59995    As a result of continued growth, First Class S...\n",
       " 59996    PHP / MVC Web Developer  MacclesfieldCirca ***...\n",
       " 59997    Staff Nurse, Nursing Home, Baldock White Recru...\n",
       " 59998    This is one of the best agency side opportunit...\n",
       " 59999    Must have CSCS card must have asbestos awarene...\n",
       " Name: FullDescription, Length: 60000, dtype: object,\n",
       " 0    We currently have a vacancy for an HR Project ...\n",
       " 1    A Web developer opportunity has arisen with an...\n",
       " Name: FullDescription, dtype: object)"
      ]
     },
     "execution_count": 103,
     "metadata": {},
     "output_type": "execute_result"
    }
   ],
   "source": [
    "train = pd.read_csv('data/salary-train.csv')\n",
    "X_train = train.iloc[:,:3]\n",
    "y_train = train.iloc[:,3]\n",
    "\n",
    "test = pd.read_csv('data/salary-test-mini.csv')\n",
    "X_test = test.iloc[:,:3]\n",
    "y_test = test.iloc[:,3]\n",
    "\n",
    "X_train.iloc[:,0], X_test.iloc[:,0]"
   ]
  },
  {
   "cell_type": "code",
   "execution_count": 104,
   "metadata": {
    "scrolled": true
   },
   "outputs": [
    {
     "data": {
      "text/plain": [
       "(0        international sales manager london     k      ...\n",
       " 1        an ideal opportunity for an individual that ha...\n",
       " 2        online content and brand manager   luxury reta...\n",
       " 3        a great local marketleader is seeking a perman...\n",
       " 4        registered nurse   rgn  nursing home for young...\n",
       "                                ...                        \n",
       " 59995    as a result of continued growth  first class s...\n",
       " 59996    php   mvc web developer  macclesfieldcirca    ...\n",
       " 59997    staff nurse  nursing home  baldock white recru...\n",
       " 59998    this is one of the best agency side opportunit...\n",
       " 59999    must have cscs card must have asbestos awarene...\n",
       " Name: FullDescription, Length: 60000, dtype: object,\n",
       " 0    we currently have a vacancy for an hr project ...\n",
       " 1    a web developer opportunity has arisen with an...\n",
       " Name: FullDescription, dtype: object)"
      ]
     },
     "execution_count": 104,
     "metadata": {},
     "output_type": "execute_result"
    }
   ],
   "source": [
    "X_train['FullDescription'] = X_train['FullDescription'].apply(lambda x: x.lower())\n",
    "X_train['FullDescription'] = X_train['FullDescription'].replace('[^a-zA-Z0-9]', ' ', regex = True)\n",
    "\n",
    "X_test['FullDescription'] = X_test['FullDescription'].apply(lambda x: x.lower())\n",
    "X_test['FullDescription'] = X_test['FullDescription'].replace('[^a-zA-Z0-9]', ' ', regex = True)\n",
    "\n",
    "X_train['FullDescription'], X_test['FullDescription']"
   ]
  },
  {
   "cell_type": "code",
   "execution_count": 106,
   "metadata": {},
   "outputs": [
    {
     "data": {
      "text/plain": [
       "(<60000x22861 sparse matrix of type '<class 'numpy.float64'>'\n",
       " \twith 8365759 stored elements in Compressed Sparse Row format>,\n",
       " <2x22861 sparse matrix of type '<class 'numpy.float64'>'\n",
       " \twith 300 stored elements in Compressed Sparse Row format>)"
      ]
     },
     "execution_count": 106,
     "metadata": {},
     "output_type": "execute_result"
    }
   ],
   "source": [
    "# ...   exchange every word from data with a number (TF-IDF)   ...\n",
    "# ...   TF-IDF = (term frequency) * (inverse document frequency) ...\n",
    "vectorizer = TfidfVectorizer(min_df=5)  # min_df = 5 means \"ignore terms that appear in less than 5 documents\".\n",
    "\n",
    "X_train_vec = vectorizer.fit_transform(X_train['FullDescription'])\n",
    "X_test_vec = vectorizer.transform(X_test['FullDescription'])\n",
    "\n",
    "X_train_vec, X_test_vec"
   ]
  },
  {
   "cell_type": "code",
   "execution_count": 107,
   "metadata": {
    "scrolled": false
   },
   "outputs": [
    {
     "data": {
      "text/plain": [
       "(                                     FullDescription LocationNormalized  \\\n",
       " 0  international sales manager london     k      ...             London   \n",
       " 1  an ideal opportunity for an individual that ha...             London   \n",
       " 2  online content and brand manager   luxury reta...  South East London   \n",
       " 3  a great local marketleader is seeking a perman...            Dereham   \n",
       " 4  registered nurse   rgn  nursing home for young...   Sutton Coldfield   \n",
       " \n",
       "   ContractTime  \n",
       " 0    permanent  \n",
       " 1    permanent  \n",
       " 2    permanent  \n",
       " 3    permanent  \n",
       " 4          nan  ,\n",
       "                                      FullDescription LocationNormalized  \\\n",
       " 0  we currently have a vacancy for an hr project ...      Milton Keynes   \n",
       " 1  a web developer opportunity has arisen with an...         Manchester   \n",
       " \n",
       "   ContractTime  \n",
       " 0     contract  \n",
       " 1    permanent  )"
      ]
     },
     "execution_count": 107,
     "metadata": {},
     "output_type": "execute_result"
    }
   ],
   "source": [
    "X_train['LocationNormalized'].fillna('nan', inplace=True)\n",
    "X_train['ContractTime'].fillna('nan', inplace=True)\n",
    "\n",
    "X_test['LocationNormalized'].fillna('nan', inplace=True)\n",
    "X_test['ContractTime'].fillna('nan', inplace=True)\n",
    "\n",
    "X_train.head(), X_test.head()"
   ]
  },
  {
   "cell_type": "code",
   "execution_count": 108,
   "metadata": {},
   "outputs": [
    {
     "data": {
      "text/plain": [
       "(<60000x1766 sparse matrix of type '<class 'numpy.float64'>'\n",
       " \twith 120000 stored elements in Compressed Sparse Row format>,\n",
       " <2x1766 sparse matrix of type '<class 'numpy.float64'>'\n",
       " \twith 4 stored elements in Compressed Sparse Row format>)"
      ]
     },
     "execution_count": 108,
     "metadata": {},
     "output_type": "execute_result"
    }
   ],
   "source": [
    "# преобразовать номинальные признаки в бинарные\n",
    "enc = DictVectorizer()\n",
    "\n",
    "X_train_categ = enc.fit_transform(X_train[['LocationNormalized', 'ContractTime']].to_dict('records'))\n",
    "X_test_categ = enc.transform(X_test[['LocationNormalized', 'ContractTime']].to_dict('records'))\n",
    "\n",
    "X_train_categ , X_test_categ"
   ]
  },
  {
   "cell_type": "code",
   "execution_count": 113,
   "metadata": {},
   "outputs": [
    {
     "data": {
      "text/plain": [
       "<60000x24627 sparse matrix of type '<class 'numpy.float64'>'\n",
       "\twith 8485759 stored elements in COOrdinate format>"
      ]
     },
     "execution_count": 113,
     "metadata": {},
     "output_type": "execute_result"
    }
   ],
   "source": [
    "X_train = hstack([X_train_vec, X_train_categ])\n",
    "X_test = hstack([X_test_vec, X_test_categ])"
   ]
  },
  {
   "cell_type": "code",
   "execution_count": 114,
   "metadata": {},
   "outputs": [
    {
     "data": {
      "text/plain": [
       "Ridge(alpha=1, random_state=241)"
      ]
     },
     "execution_count": 114,
     "metadata": {},
     "output_type": "execute_result"
    }
   ],
   "source": [
    "# обучение\n",
    "\n",
    "reg = Ridge(alpha=1, random_state=241)\n",
    "reg.fit(X_train, y_train)"
   ]
  },
  {
   "cell_type": "code",
   "execution_count": 117,
   "metadata": {},
   "outputs": [
    {
     "data": {
      "text/plain": [
       "array([56581.31152328, 37133.54332311])"
      ]
     },
     "execution_count": 117,
     "metadata": {},
     "output_type": "execute_result"
    }
   ],
   "source": [
    "prediction = reg.predict(X_test)\n",
    "prediction"
   ]
  }
 ],
 "metadata": {
  "kernelspec": {
   "display_name": "Python 3",
   "language": "python",
   "name": "python3"
  },
  "language_info": {
   "codemirror_mode": {
    "name": "ipython",
    "version": 3
   },
   "file_extension": ".py",
   "mimetype": "text/x-python",
   "name": "python",
   "nbconvert_exporter": "python",
   "pygments_lexer": "ipython3",
   "version": "3.8.5"
  }
 },
 "nbformat": 4,
 "nbformat_minor": 4
}
