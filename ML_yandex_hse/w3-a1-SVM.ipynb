{
 "cells": [
  {
   "cell_type": "markdown",
   "metadata": {},
   "source": [
    "# Метод опорных векторов (SVM)\n",
    "## Опорные объекты\n",
    "\n",
    "- Загрузите выборку из файла svm-data.csv. В нем записана двумерная выборка (целевая переменная указана в первом столбце, признаки — во втором и третьем).\n",
    "- Обучите классификатор с линейным ядром, параметром C = 100000 и random_state=241. Такое значение параметра нужно использовать, чтобы убедиться, что SVM работает с выборкой как с линейно разделимой. При более низких значениях параметра алгоритм будет настраиваться с учетом слагаемого в функционале, штрафующего за маленькие отступы, из-за чего результат может не совпасть с решением классической задачи SVM для линейно разделимой выборки.\n",
    "- Найдите номера объектов, которые являются опорными (нумерация с единицы). Они будут являться ответом на задание. Обратите внимание, что в качестве ответа нужно привести номера объектов в возрастающем порядке через запятую или пробел. Нумерация начинается с 1."
   ]
  },
  {
   "cell_type": "code",
   "execution_count": 1,
   "metadata": {},
   "outputs": [],
   "source": [
    "import pandas as pd\n",
    "import numpy as np\n",
    "\n",
    "from sklearn.svm import SVC\n",
    "import matplotlib.pyplot as plt\n",
    "\n",
    "# коэффициент С и тип ядра kernel. В данной задаче kernel='linear'\n",
    "# Индексы опорных объектов обученного классификатора хранятся в поле support_"
   ]
  },
  {
   "cell_type": "code",
   "execution_count": 44,
   "metadata": {},
   "outputs": [
    {
     "name": "stdout",
     "output_type": "stream",
     "text": [
      "[ 4  5 10]\n"
     ]
    }
   ],
   "source": [
    "data = pd.read_csv('svm-data.csv', header=None)\n",
    "X = data.loc[:, 1:]\n",
    "y = data[0]\n",
    "\n",
    "svm_model = SVC(C=100000, random_state=241, kernel='linear')\n",
    "svm_model.fit(X,y)\n",
    "\n",
    "print(svm_model.support_ + 1)"
   ]
  },
  {
   "cell_type": "code",
   "execution_count": 27,
   "metadata": {},
   "outputs": [],
   "source": [
    "def plot_svc_decision_function(model,ax=None, plot_support=True):\n",
    "    \"\"\" строим график решающей функции для двумерной SVC \"\"\"\n",
    "    if ax is None:\n",
    "        ax = plt.gca()\n",
    "    xlim = ax.get_xlim()\n",
    "    ylim = ax.get_ylim()\n",
    "    \n",
    "    # создаем координатную сетку для оценки модели\n",
    "    x = np.linspace(xlim[0], xlim[1], 30)\n",
    "    y = np.linspace(ylim[0], ylim[1], 30)    \n",
    "    Y, X = np.meshgrid(y,x)\n",
    "    xy = np.vstack([X.ravel(), Y.ravel()]).T\n",
    "    P = svm_model.decision_function(xy).reshape(X.shape)\n",
    "    \n",
    "    # рисуем границы принятия решений и отступы\n",
    "    ax.contour(X, Y, P, colors='k',\n",
    "              levels=[-1,0,1], alpha=0.5,\n",
    "              linestyles=['--', '-', '--'])\n",
    "    \n",
    "    # рисуем опорные векторы\n",
    "    if plot_support:\n",
    "        ax.scatter(svm_model.support_vectors_[:,0],\n",
    "                  svm_model.support_vectors_[:,1],\n",
    "                  s=300, linewidth=1, facecolors='none');\n",
    "    ax.set_xlim(xlim)\n",
    "    ax.set_ylim(ylim)"
   ]
  },
  {
   "cell_type": "code",
   "execution_count": 22,
   "metadata": {},
   "outputs": [
    {
     "data": {
      "image/png": "[encoded data removed]",
      "text/plain": [
       "<Figure size 432x288 with 1 Axes>"
      ]
     },
     "metadata": {
      "needs_background": "light"
     },
     "output_type": "display_data"
    }
   ],
   "source": [
    "plt.scatter(X.iloc[:,0], X.iloc[:,1], c=y, s=50, cmap='autumn')\n",
    "plot_svc_decision_function(svm_model)"
   ]
  }
 ],
 "metadata": {
  "kernelspec": {
   "display_name": "Python 3",
   "language": "python",
   "name": "python3"
  },
  "language_info": {
   "codemirror_mode": {
    "name": "ipython",
    "version": 3
   },
   "file_extension": ".py",
   "mimetype": "text/x-python",
   "name": "python",
   "nbconvert_exporter": "python",
   "pygments_lexer": "ipython3",
   "version": "3.8.5"
  }
 },
 "nbformat": 4,
 "nbformat_minor": 4
}
