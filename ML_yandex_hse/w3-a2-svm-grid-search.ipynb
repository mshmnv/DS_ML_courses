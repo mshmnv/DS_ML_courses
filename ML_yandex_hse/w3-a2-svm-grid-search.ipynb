{
 "cells": [
  {
   "cell_type": "markdown",
   "metadata": {},
   "source": [
    "# Анализ текстов \n",
    "1. Загрузите объекты из новостного датасета 20 newsgroups, относящиеся к категориям \"космос\"и \"атеизм\"(инструкция приведена выше).\n",
    "2. Вычислите TF-IDF-признаки для всех текстов. Обратите внимание, что в этом задании мы предлагаем вам вычислить TF-IDF по всем данным. При таком подходе получается, что признаки на обучающем множестве используют информацию из тестовой выборки — но такая ситуация вполне законна, поскольку мы не используем значения целевой переменной из теста. На практике нередко встречаются ситуации, когда признаки объектов тестовой выборки известны на момент обучения, и поэтому можно ими пользоваться при обучении алгоритма.\n",
    "3. Подберите минимальный лучший параметр C из множества [10^−5, 10^−4, ...10^4, 10^5] для SVM с линейным ядром (kernel=’linear’) при помощи кросс-валидации по 5 блокам. Укажите параметр random_state=241 и для SVM, и для KFold. В качестве меры качества используйте долю верных ответов (accuracy).\n",
    "4. Обучите SVM по всей выборке с лучшим параметром C, найденным на предыдущем шаге.\n",
    "5. Найдите 10 слов с наибольшим по модулю весом. Они являются ответом на это задание. Укажите их через запятую, в нижнем регистре, в лексикографическом порядке.\n"
   ]
  },
  {
   "cell_type": "code",
   "execution_count": 47,
   "metadata": {},
   "outputs": [],
   "source": [
    "from sklearn import datasets\n",
    "from sklearn.feature_extraction.text import TfidfVectorizer\n",
    "from sklearn.svm import SVC\n",
    "from sklearn.model_selection import GridSearchCV\n",
    "from sklearn.model_selection import KFold\n",
    "import numpy as np"
   ]
  },
  {
   "cell_type": "code",
   "execution_count": 48,
   "metadata": {
    "pycharm": {
     "name": "#%%\n"
    },
    "scrolled": true
   },
   "outputs": [
    {
     "data": {
      "text/plain": [
       "<1786x28382 sparse matrix of type '<class 'numpy.float64'>'\n",
       "\twith 303138 stored elements in Compressed Sparse Row format>"
      ]
     },
     "execution_count": 48,
     "metadata": {},
     "output_type": "execute_result"
    }
   ],
   "source": [
    "newsgroups = datasets.fetch_20newsgroups(subset='all', categories=['alt.atheism', 'sci.space'])\n",
    "\n",
    "X = newsgroups.data    # массив с текстами\n",
    "y = newsgroups.target  # номер класса\n",
    "\n",
    "# ...   exchange every word from data with a number (TF-IDF)   ...\n",
    "# ...   TF-IDF = (term frequency) * (inverse document frequency) ...\n",
    "\n",
    "vectorizer = TfidfVectorizer()\n",
    "\n",
    "X = vectorizer.fit_transform(X)\n",
    "X"
   ]
  },
  {
   "cell_type": "code",
   "execution_count": 50,
   "metadata": {},
   "outputs": [
    {
     "data": {
      "text/plain": [
       "GridSearchCV(cv=KFold(n_splits=5, random_state=241, shuffle=True),\n",
       "             estimator=SVC(kernel='linear', random_state=241),\n",
       "             param_grid={'C': array([1.e-05, 1.e-04, 1.e-03, 1.e-02, 1.e-01, 1.e+00, 1.e+01, 1.e+02,\n",
       "       1.e+03, 1.e+04, 1.e+05])},\n",
       "             scoring='accuracy')"
      ]
     },
     "execution_count": 50,
     "metadata": {},
     "output_type": "execute_result"
    }
   ],
   "source": [
    "# ...   подбор параметров   ...\n",
    "parameters_grid = {'C': np.power(10.0, np.arange(-5, 6))}\n",
    "\n",
    "cv = KFold(n_splits=5, shuffle=True, random_state=241)\n",
    "clf = SVC(kernel='linear', random_state=241)\n",
    "gs = GridSearchCV(clf, parameters_grid, scoring='accuracy', cv=cv)\n",
    "gs.fit(X, y)"
   ]
  },
  {
   "cell_type": "code",
   "execution_count": 83,
   "metadata": {},
   "outputs": [
    {
     "data": {
      "text/plain": [
       "1.0"
      ]
     },
     "execution_count": 83,
     "metadata": {},
     "output_type": "execute_result"
    }
   ],
   "source": [
    "gs.best_params_['C']"
   ]
  },
  {
   "cell_type": "code",
   "execution_count": 95,
   "metadata": {},
   "outputs": [
    {
     "data": {
      "text/plain": [
       "array([24019, 12871,  5088,  5093, 17802, 23673, 21850,  5776, 15606,\n",
       "       22936])"
      ]
     },
     "execution_count": 95,
     "metadata": {},
     "output_type": "execute_result"
    }
   ],
   "source": [
    "# ...   fitting   ...\n",
    "clf = SVC(kernel='linear', random_state=241, C=gs.best_params_['C'])\n",
    "clf.fit(X,y)\n",
    "\n",
    "# clf.coef_ - разреженная и неотсортированная матрица\n",
    "coefs = abs(clf.coef_.todense().A1)   # A1 - поле со значениями весов\n",
    "coefs = np.argsort(coefs)[:-11:-1]\n",
    "coefs"
   ]
  },
  {
   "cell_type": "code",
   "execution_count": 106,
   "metadata": {},
   "outputs": [
    {
     "data": {
      "text/plain": [
       "['atheism',\n",
       " 'atheists',\n",
       " 'bible',\n",
       " 'god',\n",
       " 'keith',\n",
       " 'moon',\n",
       " 'religion',\n",
       " 'sci',\n",
       " 'sky',\n",
       " 'space']"
      ]
     },
     "execution_count": 106,
     "metadata": {},
     "output_type": "execute_result"
    }
   ],
   "source": [
    "feature_mapping = vectorizer.get_feature_names()\n",
    "main_words = []\n",
    "for item in coefs:\n",
    "    main_words.append(feature_mapping[item])\n",
    "\n",
    "main_words.sort()\n",
    "main_words"
   ]
  }
 ],
 "metadata": {
  "kernelspec": {
   "display_name": "Python 3",
   "language": "python",
   "name": "python3"
  },
  "language_info": {
   "codemirror_mode": {
    "name": "ipython",
    "version": 3
   },
   "file_extension": ".py",
   "mimetype": "text/x-python",
   "name": "python",
   "nbconvert_exporter": "python",
   "pygments_lexer": "ipython3",
   "version": "3.8.5"
  }
 },
 "nbformat": 4,
 "nbformat_minor": 1
}
